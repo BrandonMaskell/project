{
 "cells": [
  {
   "cell_type": "code",
   "execution_count": 2,
   "id": "440785c0",
   "metadata": {},
   "outputs": [],
   "source": [
    "from astropy.io import fits\n",
    "import matplotlib.pyplot as plt\n",
    "from astropy.nddata import CCDData\n",
    "import numpy as np"
   ]
  },
  {
   "cell_type": "code",
   "execution_count": 35,
   "id": "80fdaeb6",
   "metadata": {},
   "outputs": [],
   "source": [
    "hdulist = fits.open('new606.fits')"
   ]
  },
  {
   "cell_type": "code",
   "execution_count": 36,
   "id": "3aec2e0c",
   "metadata": {},
   "outputs": [
    {
     "name": "stdout",
     "output_type": "stream",
     "text": [
      "Filename: new606.fits\n",
      "No.    Name      Ver    Type      Cards   Dimensions   Format\n",
      "  0  PRIMARY       1 PrimaryHDU     897   ()      \n",
      "  1  SCI           1 ImageHDU        88   (5154, 5403)   float32   \n",
      "  2  WHT           1 ImageHDU        47   (5154, 5403)   float32   \n",
      "  3  CTX           1 ImageHDU        42   (5154, 5403)   int32   \n",
      "  4  HDRTAB        1 BinTableHDU    557   6R x 274C   [9A, 3A, J, D, D, D, D, D, D, D, D, D, D, D, D, J, 11A, 9A, 7A, 18A, 4A, D, D, D, D, 3A, D, D, D, D, D, D, D, D, D, D, D, D, J, J, 8A, 23A, D, D, D, D, J, J, 8A, 23A, 9A, 18A, 4A, J, D, D, D, J, J, J, J, 23A, D, D, D, D, J, J, 4A, 3A, 4A, J, D, D, D, 23A, 1A, J, D, D, D, 4A, 1A, 12A, 12A, 8A, 23A, D, D, 10A, 10A, D, D, D, 4A, 3A, 3A, 4A, 8A, 7A, D, J, D, 6A, 9A, 8A, D, D, 4A, 18A, 3A, J, 5A, 4A, D, 13A, 8A, 4A, 3A, D, D, D, 3A, 1A, D, 23A, D, D, D, 3A, J, 1A, 4A, D, 3A, 6A, D, D, D, D, D, 23A, D, D, D, D, D, 1A, J, J, J, J, D, 3A, J, D, 5A, 7A, D, D, D, D, D, D, D, D, D, D, D, D, D, D, D, D, D, 13A, D, 24A, 23A, D, 2A, 8A, D, J, D, D, 6A, 4A, D, D, D, D, D, D, D, D, D, D, D, 21A, D, J, 23A, D, 8A, D, D, 20A, D, D, J, D, D, 4A, 5A, 1A, 4A, D, 1A, J, 1A, 1A, 1A, 1A, D, D, D, D, D, D, 4A, D, D, D, D, D, D, D, D, D, D, D, D, 4A, J, 4A, 3A, 1A, J, J, J, 1A, D, D, D, D, J, J, 6A, J, D, D, D, 1A, 7A, D, 3A, 8A, D, D, J, D, D, D]   \n",
      "  5  EXP           1 ImageHDU         8   (5154, 5403)   float32   \n"
     ]
    }
   ],
   "source": [
    "hdulist.info()"
   ]
  },
  {
   "cell_type": "code",
   "execution_count": 37,
   "id": "6af15caa",
   "metadata": {},
   "outputs": [],
   "source": [
    "# hdulist.close()"
   ]
  },
  {
   "cell_type": "code",
   "execution_count": 38,
   "id": "c6d77e7b",
   "metadata": {},
   "outputs": [],
   "source": [
    "# ccd = CCDData.read('606.fits',hdu =1)\n",
    "# print(ccd)"
   ]
  },
  {
   "cell_type": "code",
   "execution_count": 39,
   "id": "363c05d7",
   "metadata": {},
   "outputs": [
    {
     "data": {
      "text/plain": [
       "1.13745e-19"
      ]
     },
     "execution_count": 39,
     "metadata": {},
     "output_type": "execute_result"
    }
   ],
   "source": [
    "hdulist[0].header['PHOTFLAM']"
   ]
  },
  {
   "cell_type": "code",
   "execution_count": 40,
   "id": "b1124fda",
   "metadata": {},
   "outputs": [
    {
     "name": "stdout",
     "output_type": "stream",
     "text": [
      "1500.0\n"
     ]
    }
   ],
   "source": [
    "exptime=hdulist[0].header['EXPTIME']\n",
    "print(exptime)"
   ]
  },
  {
   "cell_type": "code",
   "execution_count": 34,
   "id": "c5bb11ab",
   "metadata": {},
   "outputs": [
    {
     "data": {
      "text/plain": [
       "'ELECTRONS/S'"
      ]
     },
     "execution_count": 34,
     "metadata": {},
     "output_type": "execute_result"
    }
   ],
   "source": [
    "hdulist['SCI'].header['BUNIT']"
   ]
  },
  {
   "cell_type": "code",
   "execution_count": 88,
   "id": "6b6d92f6",
   "metadata": {},
   "outputs": [
    {
     "name": "stdout",
     "output_type": "stream",
     "text": [
      "1.5 2640.0\n"
     ]
    }
   ],
   "source": [
    "print(ccdgain,exptime)"
   ]
  },
  {
   "cell_type": "code",
   "execution_count": 89,
   "id": "2af39444",
   "metadata": {},
   "outputs": [],
   "source": [
    "sci = hdulist['SCI'].data"
   ]
  },
  {
   "cell_type": "code",
   "execution_count": 90,
   "id": "e47fa950",
   "metadata": {},
   "outputs": [
    {
     "data": {
      "text/plain": [
       "(5403, 5154)"
      ]
     },
     "execution_count": 90,
     "metadata": {},
     "output_type": "execute_result"
    }
   ],
   "source": [
    "sci.shape"
   ]
  },
  {
   "cell_type": "code",
   "execution_count": 91,
   "id": "282bc6f1",
   "metadata": {},
   "outputs": [],
   "source": [
    "sci *= exptime/ccdgain"
   ]
  },
  {
   "cell_type": "code",
   "execution_count": 92,
   "id": "e538bd6e",
   "metadata": {},
   "outputs": [],
   "source": [
    "hdulist.writeto('new814.fits')"
   ]
  },
  {
   "cell_type": "code",
   "execution_count": 51,
   "id": "a7cb661c",
   "metadata": {},
   "outputs": [
    {
     "name": "stdout",
     "output_type": "stream",
     "text": [
      "1.5 2745.0\n"
     ]
    }
   ],
   "source": []
  },
  {
   "cell_type": "code",
   "execution_count": null,
   "id": "e9c69b2a",
   "metadata": {},
   "outputs": [],
   "source": []
  },
  {
   "cell_type": "code",
   "execution_count": 23,
   "id": "67bc8b40",
   "metadata": {},
   "outputs": [],
   "source": [
    "hdulist.close()"
   ]
  },
  {
   "cell_type": "code",
   "execution_count": 24,
   "id": "3d5597e2",
   "metadata": {},
   "outputs": [],
   "source": [
    "# gain = hdulist[0].header['CCDGAIN'].data\n",
    "# exptime = hdulist[0].header['EXPTIME'].data\n",
    "# hdulist['SCI'].header['BUNIT'].data *=  exptime/gain"
   ]
  },
  {
   "cell_type": "code",
   "execution_count": null,
   "id": "6dba695d",
   "metadata": {},
   "outputs": [],
   "source": []
  }
 ],
 "metadata": {
  "kernelspec": {
   "display_name": "Python 3",
   "language": "python",
   "name": "python3"
  },
  "language_info": {
   "codemirror_mode": {
    "name": "ipython",
    "version": 3
   },
   "file_extension": ".py",
   "mimetype": "text/x-python",
   "name": "python",
   "nbconvert_exporter": "python",
   "pygments_lexer": "ipython3",
   "version": "3.8.8"
  }
 },
 "nbformat": 4,
 "nbformat_minor": 5
}
